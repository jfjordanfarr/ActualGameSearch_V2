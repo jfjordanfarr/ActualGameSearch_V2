{
 "cells": [
  {
   "cell_type": "code",
   "execution_count": 5,
   "id": "83f88f73",
   "metadata": {},
   "outputs": [],
   "source": [
    "# Utility: Profile JSON schema for a list of Steam API responses\n",
    "from collections import defaultdict\n",
    "\n",
    "def profile_json_schema(json_list, max_depth=2, prefix=\"\"):\n",
    "    field_types = defaultdict(set)\n",
    "    field_counts = defaultdict(int)\n",
    "    for obj in json_list:\n",
    "        if not isinstance(obj, dict):\n",
    "            continue\n",
    "        for k, v in obj.items():\n",
    "            field_types[prefix + k].add(type(v).__name__)\n",
    "            field_counts[prefix + k] += 1\n",
    "            if isinstance(v, dict) and max_depth > 1:\n",
    "                sub_types, sub_counts = profile_json_schema([v], max_depth-1, prefix=prefix + k + \".\")\n",
    "                for subk, types in sub_types.items():\n",
    "                    field_types[subk].update(types)\n",
    "                for subk, count in sub_counts.items():\n",
    "                    field_counts[subk] += count\n",
    "            elif isinstance(v, list) and max_depth > 1 and v and isinstance(v[0], dict):\n",
    "                sub_types, sub_counts = profile_json_schema(v, max_depth-1, prefix=prefix + k + \"[]\")\n",
    "                for subk, types in sub_types.items():\n",
    "                    field_types[subk].update(types)\n",
    "                for subk, count in sub_counts.items():\n",
    "                    field_counts[subk] += count\n",
    "    return field_types, field_counts"
   ]
  },
  {
   "cell_type": "code",
   "execution_count": null,
   "id": "ad4fed94",
   "metadata": {},
   "outputs": [],
   "source": [
    "# Utility: Profile JSON schema for a list of Steam API responses\n",
    "from collections import defaultdict\n",
    "\n",
    "def profile_json_schema(json_list, max_depth=2, prefix=\"\"):\n",
    "    field_types = defaultdict(set)\n",
    "    field_counts = defaultdict(int)\n",
    "    for obj in json_list:\n",
    "        if not isinstance(obj, dict):\n",
    "            continue\n",
    "        for k, v in obj.items():\n",
    "            field_types[prefix + k].add(type(v).__name__)\n",
    "            field_counts[prefix + k] += 1\n",
    "            if isinstance(v, dict) and max_depth > 1:\n",
    "                sub_types, sub_counts = profile_json_schema([v], max_depth-1, prefix=prefix + k + \".\")\n",
    "                for subk, types in sub_types.items():\n",
    "                    field_types[subk].update(types)\n",
    "                for subk, count in sub_counts.items():\n",
    "                    field_counts[subk] += count\n",
    "            elif isinstance(v, list) and max_depth > 1 and v and isinstance(v[0], dict):\n",
    "                sub_types, sub_counts = profile_json_schema(v, max_depth-1, prefix=prefix + k + \"[]\")\n",
    "                for subk, types in sub_types.items():\n",
    "                    field_types[subk].update(types)\n",
    "                for subk, count in sub_counts.items():\n",
    "                    field_counts[subk] += count\n",
    "    return field_types, field_counts\n",
    "\n",
    "# Example usage:\n",
    "# field_types, field_counts = profile_json_schema(list_of_jsons)\n",
    "# for field, types in field_types.items():\n",
    "#     print(f\"{field}: types={types}, present_in={field_counts[field]} objects\")\n"
   ]
  },
  {
   "cell_type": "markdown",
   "id": "f227db9d",
   "metadata": {},
   "source": [
    "# ActualGameSearch: Acquire, Explore, ETL, and Search\n",
    "\n",
    "This notebook demonstrates the acquisition of product metadata and reviews, exploratory data analysis, ETL pipeline design, and basic search functionality for Actual Game Search V2.\n",
    "\n",
    "**Outline:**\n",
    "1. Import Required Libraries\n",
    "2. Acquire Product Metadata and Reviews\n",
    "3. Explore and Interact with the Data\n",
    "4. Design ETL Pipeline Functions\n",
    "5. Implement Search Functionality\n"
   ]
  },
  {
   "cell_type": "code",
   "execution_count": 3,
   "id": "e2eff6d4",
   "metadata": {},
   "outputs": [
    {
     "name": "stdout",
     "output_type": "stream",
     "text": [
      "Added to sys.path: d:\\Projects\\ActualGameSearch_V2\\pipeline\\src\n"
     ]
    }
   ],
   "source": [
    "# Ensure local pipeline package is importable (works in Codespaces and local)\n",
    "import sys, os\n",
    "nb_dir = os.getcwd()\n",
    "pipeline_dir = os.path.abspath(os.path.join(nb_dir, \"..\"))  # .../pipeline\n",
    "src_dir = os.path.join(pipeline_dir, \"src\")\n",
    "if src_dir not in sys.path:\n",
    "    sys.path.insert(0, src_dir)\n",
    "print(\"Added to sys.path:\", src_dir)"
   ]
  },
  {
   "cell_type": "code",
   "execution_count": 1,
   "id": "c3d7f4a6",
   "metadata": {},
   "outputs": [],
   "source": [
    "# 1. Import Required Libraries\n",
    "import pandas as pd\n",
    "import numpy as np\n",
    "import requests\n",
    "import json\n",
    "import os\n",
    "from typing import List, Dict, Any\n"
   ]
  },
  {
   "cell_type": "code",
   "execution_count": 7,
   "id": "96c03c53",
   "metadata": {},
   "outputs": [
    {
     "name": "stdout",
     "output_type": "stream",
     "text": [
      "Profiling reviews for app: 2688110\n",
      "Fetched 11 reviews\n",
      "Field presence and types in sampled reviews:\n",
      "app_id: types={'int'}, present_in=11 objects\n",
      "author_steamid: types={'str'}, present_in=11 objects\n",
      "language: types={'str'}, present_in=11 objects\n",
      "recommendationid: types={'str'}, present_in=11 objects\n",
      "review: types={'str'}, present_in=11 objects\n",
      "timestamp_created: types={'int'}, present_in=11 objects\n",
      "voted_up: types={'bool'}, present_in=11 objects\n",
      "votes_funny: types={'int'}, present_in=11 objects\n",
      "votes_up: types={'int'}, present_in=11 objects\n"
     ]
    }
   ],
   "source": [
    "# Sample and profile recent Steam reviews for one sampled app\n",
    "# Pick the first valid appid from the sample details\n",
    "if not sample_details_df.empty:\n",
    "    app_id = int(sample_details_df.iloc[0][\"steam_appid\"])\n",
    "    print(\"Profiling reviews for app:\", app_id)\n",
    "    reviews_df = steam.get_reviews(app_id, count=100)\n",
    "    print(\"Fetched\", len(reviews_df), \"reviews\")\n",
    "    review_jsons = reviews_df.to_dict(orient=\"records\")\n",
    "    r_types, r_counts = profile_json_schema(review_jsons, max_depth=2)\n",
    "    print(\"Field presence and types in sampled reviews:\")\n",
    "    for field, types in sorted(r_types.items()):\n",
    "        print(f\"{field}: types={types}, present_in={r_counts[field]} objects\")\n",
    "else:\n",
    "    print(\"No app details available to sample reviews.\")"
   ]
  },
  {
   "cell_type": "markdown",
   "id": "d2286a33",
   "metadata": {},
   "source": [
    "## Persist Sampled Data for Reproducible ETL\n",
    "\n",
    "Save the sampled app details and reviews to `pipeline/notebooks/data/` as both CSV and Feather for easy reuse."
   ]
  },
  {
   "cell_type": "code",
   "execution_count": null,
   "id": "85095822",
   "metadata": {},
   "outputs": [],
   "source": [
    "# Save sampled app details and reviews to disk\n",
    "import os\n",
    "data_dir = os.path.abspath(os.path.join(os.getcwd(), \"../data\"))\n",
    "os.makedirs(data_dir, exist_ok=True)\n",
    "\n",
    "apps_path_csv = os.path.join(data_dir, \"sampled_apps.csv\")\n",
    "apps_path_feather = os.path.join(data_dir, \"sampled_apps.feather\")\n",
    "reviews_path_csv = os.path.join(data_dir, \"sampled_reviews.csv\")\n",
    "reviews_path_feather = os.path.join(data_dir, \"sampled_reviews.feather\")\n",
    "\n",
    "sample_details_df.to_csv(apps_path_csv, index=False)\n",
    "sample_details_df.reset_index(drop=True).to_feather(apps_path_feather)\n",
    "reviews_df.to_csv(reviews_path_csv, index=False)\n",
    "reviews_df.reset_index(drop=True).to_feather(reviews_path_feather)\n",
    "\n",
    "print(f\"Saved {len(sample_details_df)} apps to {apps_path_csv} and {apps_path_feather}\")\n",
    "print(f\"Saved {len(reviews_df)} reviews to {reviews_path_csv} and {reviews_path_feather}\")"
   ]
  },
  {
   "cell_type": "markdown",
   "id": "ad5259b8",
   "metadata": {},
   "source": [
    "## Minimal ETL Transform Demo\n",
    "\n",
    "Flatten key nested fields and show a normalized table preview."
   ]
  },
  {
   "cell_type": "code",
   "execution_count": null,
   "id": "e7437d2e",
   "metadata": {},
   "outputs": [],
   "source": [
    "# Example: Flatten genres and categories from app details\n",
    "def extract_list_field(df, field, id_col=\"steam_appid\"):\n",
    "    rows = []\n",
    "    for _, row in df.iterrows():\n",
    "        appid = row[id_col]\n",
    "        items = row.get(field, [])\n",
    "        if isinstance(items, list):\n",
    "            for item in items:\n",
    "                if isinstance(item, dict) and \"id\" in item and \"description\" in item:\n",
    "                    rows.append({id_col: appid, f\"{field}_id\": item[\"id\"], f\"{field}_desc\": item[\"description\"]})\n",
    "    return pd.DataFrame(rows)\n",
    "\n",
    "genres_df = extract_list_field(sample_details_df, \"genres\")\n",
    "categories_df = extract_list_field(sample_details_df, \"categories\")\n",
    "\n",
    "print(\"Genres table preview:\")\n",
    "display(genres_df.head())\n",
    "print(\"Categories table preview:\")\n",
    "display(categories_df.head())"
   ]
  },
  {
   "cell_type": "code",
   "execution_count": 9,
   "id": "8c7cb3de",
   "metadata": {},
   "outputs": [
    {
     "name": "stdout",
     "output_type": "stream",
     "text": [
      "d:\\Projects\\ActualGameSearch_V2\\pipeline\\notebooks\n"
     ]
    }
   ],
   "source": [
    "# Debug: Print current working directory to verify notebook path context\n",
    "import os\n",
    "print(os.getcwd())"
   ]
  },
  {
   "cell_type": "code",
   "execution_count": null,
   "id": "eb03ae00",
   "metadata": {},
   "outputs": [],
   "source": [
    "# Add pipeline/src to sys.path for local package imports\n",
    "import sys\n",
    "sys.path.append(r'd:\\Projects\\ActualGameSearch_V2\\pipeline\\src')"
   ]
  },
  {
   "cell_type": "markdown",
   "id": "4899eba9",
   "metadata": {},
   "source": [
    "## 2. Acquire Product Metadata and Reviews\n",
    "\n",
    "In this section, we will fetch or load product metadata and reviews from a data source or API, and load them into pandas DataFrames."
   ]
  },
  {
   "cell_type": "code",
   "execution_count": 11,
   "id": "383440ec",
   "metadata": {},
   "outputs": [
    {
     "ename": "ModuleNotFoundError",
     "evalue": "No module named 'ags_pipeline'",
     "output_type": "error",
     "traceback": [
      "\u001b[31m---------------------------------------------------------------------------\u001b[39m",
      "\u001b[31mModuleNotFoundError\u001b[39m                       Traceback (most recent call last)",
      "\u001b[36mCell\u001b[39m\u001b[36m \u001b[39m\u001b[32mIn[11]\u001b[39m\u001b[32m, line 2\u001b[39m\n\u001b[32m      1\u001b[39m \u001b[38;5;66;03m# Acquire a random sample of Steam app details and profile their JSON schema\u001b[39;00m\n\u001b[32m----> \u001b[39m\u001b[32m2\u001b[39m \u001b[38;5;28;01mfrom\u001b[39;00m\u001b[38;5;250m \u001b[39m\u001b[34;01mags_pipeline\u001b[39;00m\u001b[34;01m.\u001b[39;00m\u001b[34;01mextract\u001b[39;00m\u001b[34;01m.\u001b[39;00m\u001b[34;01msteam_client\u001b[39;00m\u001b[38;5;250m \u001b[39m\u001b[38;5;28;01mimport\u001b[39;00m SteamClient\n\u001b[32m      4\u001b[39m steam = SteamClient()\n\u001b[32m      6\u001b[39m \u001b[38;5;66;03m# Sample 20 apps for schema exploration (adjust n for more/less)\u001b[39;00m\n",
      "\u001b[31mModuleNotFoundError\u001b[39m: No module named 'ags_pipeline'"
     ]
    }
   ],
   "source": [
    "# Acquire a random sample of Steam app details and profile their JSON schema\n",
    "from ags_pipeline.extract.steam_client import SteamClient\n",
    "\n",
    "steam = SteamClient()\n",
    "\n",
    "# Sample 20 apps for schema exploration (adjust n for more/less)\n",
    "sample_details_df = steam.sample_apps_with_details(n=20)\n",
    "\n",
    "# Convert each row to dict for schema profiling\n",
    "sample_jsons = sample_details_df.to_dict(orient=\"records\")\n",
    "\n",
    "field_types, field_counts = profile_json_schema(sample_jsons, max_depth=2)\n",
    "\n",
    "print(\"Field presence and types in sampled Steam app details:\")\n",
    "for field, types in sorted(field_types.items()):\n",
    "    print(f\"{field}: types={types}, present_in={field_counts[field]} objects\")"
   ]
  },
  {
   "cell_type": "code",
   "execution_count": 2,
   "id": "174065a7",
   "metadata": {},
   "outputs": [
    {
     "name": "stdout",
     "output_type": "stream",
     "text": [
      "Sample data files not found. Please provide local files or implement API acquisition.\n"
     ]
    }
   ],
   "source": [
    "# Try to load sample metadata and reviews from local files (if available)\n",
    "metadata_path = '../../AI-Agent-Workspace/Docs/Background/SteamSeeker-2023/Metadata_Census_May31_2023.feather'\n",
    "reviews_path = '../../AI-Agent-Workspace/Docs/Background/SteamSeeker-2023/Review_Census_May31_2023.feather'\n",
    "\n",
    "if os.path.exists(metadata_path) and os.path.exists(reviews_path):\n",
    "    metadata_df = pd.read_feather(metadata_path)\n",
    "    reviews_df = pd.read_feather(reviews_path)\n",
    "    print(f\"Loaded {len(metadata_df)} products and {len(reviews_df)} reviews from local files.\")\n",
    "else:\n",
    "    # Placeholder: Fetch from API or download sample data\n",
    "    print(\"Sample data files not found. Please provide local files or implement API acquisition.\")\n",
    "    metadata_df = pd.DataFrame()\n",
    "    reviews_df = pd.DataFrame()\n"
   ]
  },
  {
   "cell_type": "markdown",
   "id": "ed0a2e84",
   "metadata": {},
   "source": [
    "## 3. Explore and Interact with the Data\n",
    "\n",
    "Let's perform exploratory data analysis: display sample records, check for missing values, and summarize key statistics."
   ]
  },
  {
   "cell_type": "code",
   "execution_count": 3,
   "id": "7514aca0",
   "metadata": {},
   "outputs": [
    {
     "name": "stdout",
     "output_type": "stream",
     "text": [
      "Sample product metadata:\n"
     ]
    },
    {
     "data": {
      "text/html": [
       "<div>\n",
       "<style scoped>\n",
       "    .dataframe tbody tr th:only-of-type {\n",
       "        vertical-align: middle;\n",
       "    }\n",
       "\n",
       "    .dataframe tbody tr th {\n",
       "        vertical-align: top;\n",
       "    }\n",
       "\n",
       "    .dataframe thead th {\n",
       "        text-align: right;\n",
       "    }\n",
       "</style>\n",
       "<table border=\"1\" class=\"dataframe\">\n",
       "  <thead>\n",
       "    <tr style=\"text-align: right;\">\n",
       "      <th></th>\n",
       "    </tr>\n",
       "  </thead>\n",
       "  <tbody>\n",
       "  </tbody>\n",
       "</table>\n",
       "</div>"
      ],
      "text/plain": [
       "Empty DataFrame\n",
       "Columns: []\n",
       "Index: []"
      ]
     },
     "metadata": {},
     "output_type": "display_data"
    },
    {
     "name": "stdout",
     "output_type": "stream",
     "text": [
      "Sample reviews:\n"
     ]
    },
    {
     "data": {
      "text/html": [
       "<div>\n",
       "<style scoped>\n",
       "    .dataframe tbody tr th:only-of-type {\n",
       "        vertical-align: middle;\n",
       "    }\n",
       "\n",
       "    .dataframe tbody tr th {\n",
       "        vertical-align: top;\n",
       "    }\n",
       "\n",
       "    .dataframe thead th {\n",
       "        text-align: right;\n",
       "    }\n",
       "</style>\n",
       "<table border=\"1\" class=\"dataframe\">\n",
       "  <thead>\n",
       "    <tr style=\"text-align: right;\">\n",
       "      <th></th>\n",
       "    </tr>\n",
       "  </thead>\n",
       "  <tbody>\n",
       "  </tbody>\n",
       "</table>\n",
       "</div>"
      ],
      "text/plain": [
       "Empty DataFrame\n",
       "Columns: []\n",
       "Index: []"
      ]
     },
     "metadata": {},
     "output_type": "display_data"
    },
    {
     "name": "stdout",
     "output_type": "stream",
     "text": [
      "\n",
      "Missing values in metadata:\n",
      "Series([], dtype: float64)\n",
      "\n",
      "Missing values in reviews:\n",
      "Series([], dtype: float64)\n",
      "\n",
      "Metadata summary:\n"
     ]
    },
    {
     "ename": "ValueError",
     "evalue": "Cannot describe a DataFrame without columns",
     "output_type": "error",
     "traceback": [
      "\u001b[31m---------------------------------------------------------------------------\u001b[39m",
      "\u001b[31mValueError\u001b[39m                                Traceback (most recent call last)",
      "\u001b[36mCell\u001b[39m\u001b[36m \u001b[39m\u001b[32mIn[3]\u001b[39m\u001b[32m, line 17\u001b[39m\n\u001b[32m     15\u001b[39m \u001b[38;5;66;03m# Summarize key statistics\u001b[39;00m\n\u001b[32m     16\u001b[39m \u001b[38;5;28mprint\u001b[39m(\u001b[33m\"\u001b[39m\u001b[38;5;130;01m\\n\u001b[39;00m\u001b[33mMetadata summary:\u001b[39m\u001b[33m\"\u001b[39m)\n\u001b[32m---> \u001b[39m\u001b[32m17\u001b[39m display(\u001b[43mmetadata_df\u001b[49m\u001b[43m.\u001b[49m\u001b[43mdescribe\u001b[49m\u001b[43m(\u001b[49m\u001b[43minclude\u001b[49m\u001b[43m=\u001b[49m\u001b[33;43m'\u001b[39;49m\u001b[33;43mall\u001b[39;49m\u001b[33;43m'\u001b[39;49m\u001b[43m)\u001b[49m)\n\u001b[32m     19\u001b[39m \u001b[38;5;28mprint\u001b[39m(\u001b[33m\"\u001b[39m\u001b[38;5;130;01m\\n\u001b[39;00m\u001b[33mReviews summary:\u001b[39m\u001b[33m\"\u001b[39m)\n\u001b[32m     20\u001b[39m display(reviews_df.describe(include=\u001b[33m'\u001b[39m\u001b[33mall\u001b[39m\u001b[33m'\u001b[39m))\n",
      "\u001b[36mFile \u001b[39m\u001b[32md:\\Projects\\ActualGameSearch_V2\\.venv\\Lib\\site-packages\\pandas\\core\\generic.py:11995\u001b[39m, in \u001b[36mNDFrame.describe\u001b[39m\u001b[34m(self, percentiles, include, exclude)\u001b[39m\n\u001b[32m  11753\u001b[39m \u001b[38;5;129m@final\u001b[39m\n\u001b[32m  11754\u001b[39m \u001b[38;5;28;01mdef\u001b[39;00m\u001b[38;5;250m \u001b[39m\u001b[34mdescribe\u001b[39m(\n\u001b[32m  11755\u001b[39m     \u001b[38;5;28mself\u001b[39m,\n\u001b[32m   (...)\u001b[39m\u001b[32m  11758\u001b[39m     exclude=\u001b[38;5;28;01mNone\u001b[39;00m,\n\u001b[32m  11759\u001b[39m ) -> Self:\n\u001b[32m  11760\u001b[39m \u001b[38;5;250m    \u001b[39m\u001b[33;03m\"\"\"\u001b[39;00m\n\u001b[32m  11761\u001b[39m \u001b[33;03m    Generate descriptive statistics.\u001b[39;00m\n\u001b[32m  11762\u001b[39m \n\u001b[32m   (...)\u001b[39m\u001b[32m  11993\u001b[39m \u001b[33;03m    max            NaN      3.0\u001b[39;00m\n\u001b[32m  11994\u001b[39m \u001b[33;03m    \"\"\"\u001b[39;00m\n\u001b[32m> \u001b[39m\u001b[32m11995\u001b[39m     \u001b[38;5;28;01mreturn\u001b[39;00m \u001b[43mdescribe_ndframe\u001b[49m\u001b[43m(\u001b[49m\n\u001b[32m  11996\u001b[39m \u001b[43m        \u001b[49m\u001b[43mobj\u001b[49m\u001b[43m=\u001b[49m\u001b[38;5;28;43mself\u001b[39;49m\u001b[43m,\u001b[49m\n\u001b[32m  11997\u001b[39m \u001b[43m        \u001b[49m\u001b[43minclude\u001b[49m\u001b[43m=\u001b[49m\u001b[43minclude\u001b[49m\u001b[43m,\u001b[49m\n\u001b[32m  11998\u001b[39m \u001b[43m        \u001b[49m\u001b[43mexclude\u001b[49m\u001b[43m=\u001b[49m\u001b[43mexclude\u001b[49m\u001b[43m,\u001b[49m\n\u001b[32m  11999\u001b[39m \u001b[43m        \u001b[49m\u001b[43mpercentiles\u001b[49m\u001b[43m=\u001b[49m\u001b[43mpercentiles\u001b[49m\u001b[43m,\u001b[49m\n\u001b[32m  12000\u001b[39m \u001b[43m    \u001b[49m\u001b[43m)\u001b[49m.__finalize__(\u001b[38;5;28mself\u001b[39m, method=\u001b[33m\"\u001b[39m\u001b[33mdescribe\u001b[39m\u001b[33m\"\u001b[39m)\n",
      "\u001b[36mFile \u001b[39m\u001b[32md:\\Projects\\ActualGameSearch_V2\\.venv\\Lib\\site-packages\\pandas\\core\\methods\\describe.py:91\u001b[39m, in \u001b[36mdescribe_ndframe\u001b[39m\u001b[34m(obj, include, exclude, percentiles)\u001b[39m\n\u001b[32m     87\u001b[39m     describer = SeriesDescriber(\n\u001b[32m     88\u001b[39m         obj=cast(\u001b[33m\"\u001b[39m\u001b[33mSeries\u001b[39m\u001b[33m\"\u001b[39m, obj),\n\u001b[32m     89\u001b[39m     )\n\u001b[32m     90\u001b[39m \u001b[38;5;28;01melse\u001b[39;00m:\n\u001b[32m---> \u001b[39m\u001b[32m91\u001b[39m     describer = \u001b[43mDataFrameDescriber\u001b[49m\u001b[43m(\u001b[49m\n\u001b[32m     92\u001b[39m \u001b[43m        \u001b[49m\u001b[43mobj\u001b[49m\u001b[43m=\u001b[49m\u001b[43mcast\u001b[49m\u001b[43m(\u001b[49m\u001b[33;43m\"\u001b[39;49m\u001b[33;43mDataFrame\u001b[39;49m\u001b[33;43m\"\u001b[39;49m\u001b[43m,\u001b[49m\u001b[43m \u001b[49m\u001b[43mobj\u001b[49m\u001b[43m)\u001b[49m\u001b[43m,\u001b[49m\n\u001b[32m     93\u001b[39m \u001b[43m        \u001b[49m\u001b[43minclude\u001b[49m\u001b[43m=\u001b[49m\u001b[43minclude\u001b[49m\u001b[43m,\u001b[49m\n\u001b[32m     94\u001b[39m \u001b[43m        \u001b[49m\u001b[43mexclude\u001b[49m\u001b[43m=\u001b[49m\u001b[43mexclude\u001b[49m\u001b[43m,\u001b[49m\n\u001b[32m     95\u001b[39m \u001b[43m    \u001b[49m\u001b[43m)\u001b[49m\n\u001b[32m     97\u001b[39m result = describer.describe(percentiles=percentiles)\n\u001b[32m     98\u001b[39m \u001b[38;5;28;01mreturn\u001b[39;00m cast(NDFrameT, result)\n",
      "\u001b[36mFile \u001b[39m\u001b[32md:\\Projects\\ActualGameSearch_V2\\.venv\\Lib\\site-packages\\pandas\\core\\methods\\describe.py:162\u001b[39m, in \u001b[36mDataFrameDescriber.__init__\u001b[39m\u001b[34m(self, obj, include, exclude)\u001b[39m\n\u001b[32m    159\u001b[39m \u001b[38;5;28mself\u001b[39m.exclude = exclude\n\u001b[32m    161\u001b[39m \u001b[38;5;28;01mif\u001b[39;00m obj.ndim == \u001b[32m2\u001b[39m \u001b[38;5;129;01mand\u001b[39;00m obj.columns.size == \u001b[32m0\u001b[39m:\n\u001b[32m--> \u001b[39m\u001b[32m162\u001b[39m     \u001b[38;5;28;01mraise\u001b[39;00m \u001b[38;5;167;01mValueError\u001b[39;00m(\u001b[33m\"\u001b[39m\u001b[33mCannot describe a DataFrame without columns\u001b[39m\u001b[33m\"\u001b[39m)\n\u001b[32m    164\u001b[39m \u001b[38;5;28msuper\u001b[39m().\u001b[34m__init__\u001b[39m(obj)\n",
      "\u001b[31mValueError\u001b[39m: Cannot describe a DataFrame without columns"
     ]
    }
   ],
   "source": [
    "# Display sample records\n",
    "print(\"Sample product metadata:\")\n",
    "display(metadata_df.head())\n",
    "\n",
    "print(\"Sample reviews:\")\n",
    "display(reviews_df.head())\n",
    "\n",
    "# Check for missing values\n",
    "print(\"\\nMissing values in metadata:\")\n",
    "print(metadata_df.isnull().sum())\n",
    "\n",
    "print(\"\\nMissing values in reviews:\")\n",
    "print(reviews_df.isnull().sum())\n",
    "\n",
    "# Summarize key statistics\n",
    "print(\"\\nMetadata summary:\")\n",
    "display(metadata_df.describe(include='all'))\n",
    "\n",
    "print(\"\\nReviews summary:\")\n",
    "display(reviews_df.describe(include='all'))\n"
   ]
  },
  {
   "cell_type": "markdown",
   "id": "187b6873",
   "metadata": {},
   "source": [
    "## 4. Design ETL Pipeline Functions\n",
    "\n",
    "Develop Python functions to extract, transform, and load (ETL) product metadata and reviews, including data cleaning and normalization."
   ]
  },
  {
   "cell_type": "code",
   "execution_count": 6,
   "id": "2905fbd4",
   "metadata": {},
   "outputs": [
    {
     "name": "stdout",
     "output_type": "stream",
     "text": [
      "Field presence and types in sampled Steam app details:\n",
      "about_the_game: types={'str'}, present_in=4 objects\n",
      "achievements: types={'dict', 'float'}, present_in=4 objects\n",
      "achievements.highlighted: types={'list'}, present_in=3 objects\n",
      "achievements.total: types={'int'}, present_in=3 objects\n",
      "background: types={'str'}, present_in=4 objects\n",
      "background_raw: types={'str'}, present_in=4 objects\n",
      "capsule_image: types={'str'}, present_in=4 objects\n",
      "capsule_imagev5: types={'str'}, present_in=4 objects\n",
      "categories: types={'list'}, present_in=4 objects\n",
      "categories[]description: types={'str'}, present_in=21 objects\n",
      "categories[]id: types={'int'}, present_in=21 objects\n",
      "content_descriptors: types={'dict'}, present_in=4 objects\n",
      "content_descriptors.ids: types={'list'}, present_in=4 objects\n",
      "content_descriptors.notes: types={'NoneType', 'str'}, present_in=4 objects\n",
      "demos: types={'float', 'list'}, present_in=4 objects\n",
      "demos[]appid: types={'int'}, present_in=1 objects\n",
      "demos[]description: types={'str'}, present_in=1 objects\n",
      "detailed_description: types={'str'}, present_in=4 objects\n",
      "developers: types={'list'}, present_in=4 objects\n",
      "fullgame: types={'float', 'dict'}, present_in=4 objects\n",
      "fullgame.appid: types={'str'}, present_in=1 objects\n",
      "fullgame.name: types={'str'}, present_in=1 objects\n",
      "genres: types={'list'}, present_in=4 objects\n",
      "genres[]description: types={'str'}, present_in=9 objects\n",
      "genres[]id: types={'str'}, present_in=9 objects\n",
      "header_image: types={'str'}, present_in=4 objects\n",
      "is_free: types={'bool'}, present_in=4 objects\n",
      "legal_notice: types={'float', 'str'}, present_in=4 objects\n",
      "linux_requirements: types={'dict', 'list'}, present_in=4 objects\n",
      "linux_requirements.minimum: types={'str'}, present_in=2 objects\n",
      "linux_requirements.recommended: types={'str'}, present_in=2 objects\n",
      "mac_requirements: types={'dict', 'list'}, present_in=4 objects\n",
      "mac_requirements.minimum: types={'str'}, present_in=3 objects\n",
      "mac_requirements.recommended: types={'str'}, present_in=2 objects\n",
      "movies: types={'float', 'list'}, present_in=4 objects\n",
      "movies[]highlight: types={'bool'}, present_in=4 objects\n",
      "movies[]id: types={'int'}, present_in=4 objects\n",
      "movies[]mp4: types={'dict'}, present_in=4 objects\n",
      "movies[]name: types={'str'}, present_in=4 objects\n",
      "movies[]thumbnail: types={'str'}, present_in=4 objects\n",
      "movies[]webm: types={'dict'}, present_in=4 objects\n",
      "name: types={'str'}, present_in=4 objects\n",
      "package_groups: types={'list'}, present_in=4 objects\n",
      "package_groups[]description: types={'str'}, present_in=4 objects\n",
      "package_groups[]display_type: types={'int'}, present_in=4 objects\n",
      "package_groups[]is_recurring_subscription: types={'str'}, present_in=4 objects\n",
      "package_groups[]name: types={'str'}, present_in=4 objects\n",
      "package_groups[]save_text: types={'str'}, present_in=4 objects\n",
      "package_groups[]selection_text: types={'str'}, present_in=4 objects\n",
      "package_groups[]subs: types={'list'}, present_in=4 objects\n",
      "package_groups[]title: types={'str'}, present_in=4 objects\n",
      "packages: types={'list'}, present_in=4 objects\n",
      "pc_requirements: types={'dict'}, present_in=4 objects\n",
      "pc_requirements.minimum: types={'str'}, present_in=4 objects\n",
      "pc_requirements.recommended: types={'str'}, present_in=2 objects\n",
      "platforms: types={'dict'}, present_in=4 objects\n",
      "platforms.linux: types={'bool'}, present_in=4 objects\n",
      "platforms.mac: types={'bool'}, present_in=4 objects\n",
      "platforms.windows: types={'bool'}, present_in=4 objects\n",
      "price_overview: types={'dict'}, present_in=4 objects\n",
      "price_overview.currency: types={'str'}, present_in=4 objects\n",
      "price_overview.discount_percent: types={'int'}, present_in=4 objects\n",
      "price_overview.final: types={'int'}, present_in=4 objects\n",
      "price_overview.final_formatted: types={'str'}, present_in=4 objects\n",
      "price_overview.initial: types={'int'}, present_in=4 objects\n",
      "price_overview.initial_formatted: types={'str'}, present_in=4 objects\n",
      "publishers: types={'list'}, present_in=4 objects\n",
      "ratings: types={'dict', 'NoneType'}, present_in=4 objects\n",
      "ratings.dejus: types={'dict'}, present_in=3 objects\n",
      "ratings.steam_germany: types={'dict'}, present_in=2 objects\n",
      "release_date: types={'dict'}, present_in=4 objects\n",
      "release_date.coming_soon: types={'bool'}, present_in=4 objects\n",
      "release_date.date: types={'str'}, present_in=4 objects\n",
      "required_age: types={'int'}, present_in=4 objects\n",
      "screenshots: types={'list'}, present_in=4 objects\n",
      "screenshots[]id: types={'int'}, present_in=29 objects\n",
      "screenshots[]path_full: types={'str'}, present_in=29 objects\n",
      "screenshots[]path_thumbnail: types={'str'}, present_in=29 objects\n",
      "short_description: types={'str'}, present_in=4 objects\n",
      "steam_appid: types={'int'}, present_in=4 objects\n",
      "support_info: types={'dict'}, present_in=4 objects\n",
      "support_info.email: types={'str'}, present_in=4 objects\n",
      "support_info.url: types={'str'}, present_in=4 objects\n",
      "supported_languages: types={'str'}, present_in=4 objects\n",
      "type: types={'str'}, present_in=4 objects\n",
      "website: types={'NoneType', 'str'}, present_in=4 objects\n"
     ]
    }
   ],
   "source": [
    "# Acquire a random sample of Steam app details and profile their JSON schema\n",
    "from ags_pipeline.extract.steam_client import SteamClient\n",
    "\n",
    "steam = SteamClient(delay=0.2)\n",
    "\n",
    "# Sample 5 apps for schema exploration (smaller for quicker run)\n",
    "sample_details_df = steam.sample_apps_with_details(n=5)\n",
    "\n",
    "# Convert each row to dict for schema profiling\n",
    "sample_jsons = sample_details_df.to_dict(orient=\"records\")\n",
    "\n",
    "field_types, field_counts = profile_json_schema(sample_jsons, max_depth=2)\n",
    "\n",
    "print(\"Field presence and types in sampled Steam app details:\")\n",
    "for field, types in sorted(field_types.items()):\n",
    "    print(f\"{field}: types={types}, present_in={field_counts[field]} objects\")"
   ]
  },
  {
   "cell_type": "markdown",
   "id": "30dcf300",
   "metadata": {},
   "source": [
    "## 5. Implement Search Functionality\n",
    "\n",
    "Create functions to search the product metadata and reviews based on user queries, such as keyword or category search."
   ]
  },
  {
   "cell_type": "code",
   "execution_count": 5,
   "id": "26dd0dae",
   "metadata": {},
   "outputs": [
    {
     "name": "stdout",
     "output_type": "stream",
     "text": [
      "\n",
      "Sample product search for 'farming':\n"
     ]
    },
    {
     "ename": "KeyError",
     "evalue": "'name'",
     "output_type": "error",
     "traceback": [
      "\u001b[31m---------------------------------------------------------------------------\u001b[39m",
      "\u001b[31mKeyError\u001b[39m                                  Traceback (most recent call last)",
      "\u001b[36mCell\u001b[39m\u001b[36m \u001b[39m\u001b[32mIn[5]\u001b[39m\u001b[32m, line 14\u001b[39m\n\u001b[32m     12\u001b[39m \u001b[38;5;66;03m# Example usage:\u001b[39;00m\n\u001b[32m     13\u001b[39m \u001b[38;5;28mprint\u001b[39m(\u001b[33m\"\u001b[39m\u001b[38;5;130;01m\\n\u001b[39;00m\u001b[33mSample product search for \u001b[39m\u001b[33m'\u001b[39m\u001b[33mfarming\u001b[39m\u001b[33m'\u001b[39m\u001b[33m:\u001b[39m\u001b[33m\"\u001b[39m)\n\u001b[32m---> \u001b[39m\u001b[32m14\u001b[39m display(\u001b[43msearch_products\u001b[49m\u001b[43m(\u001b[49m\u001b[43mmetadata_clean\u001b[49m\u001b[43m,\u001b[49m\u001b[43m \u001b[49m\u001b[33;43m'\u001b[39;49m\u001b[33;43mfarming\u001b[39;49m\u001b[33;43m'\u001b[39;49m\u001b[43m)\u001b[49m)\n\u001b[32m     16\u001b[39m \u001b[38;5;28mprint\u001b[39m(\u001b[33m\"\u001b[39m\u001b[38;5;130;01m\\n\u001b[39;00m\u001b[33mSample review search for \u001b[39m\u001b[33m'\u001b[39m\u001b[33mcozy\u001b[39m\u001b[33m'\u001b[39m\u001b[33m:\u001b[39m\u001b[33m\"\u001b[39m)\n\u001b[32m     17\u001b[39m display(search_reviews(reviews_clean, \u001b[33m'\u001b[39m\u001b[33mcozy\u001b[39m\u001b[33m'\u001b[39m))\n",
      "\u001b[36mCell\u001b[39m\u001b[36m \u001b[39m\u001b[32mIn[5]\u001b[39m\u001b[32m, line 3\u001b[39m, in \u001b[36msearch_products\u001b[39m\u001b[34m(metadata, query, top_n)\u001b[39m\n\u001b[32m      2\u001b[39m \u001b[38;5;28;01mdef\u001b[39;00m\u001b[38;5;250m \u001b[39m\u001b[34msearch_products\u001b[39m(metadata: pd.DataFrame, query: \u001b[38;5;28mstr\u001b[39m, top_n: \u001b[38;5;28mint\u001b[39m = \u001b[32m10\u001b[39m) -> pd.DataFrame:\n\u001b[32m----> \u001b[39m\u001b[32m3\u001b[39m     mask = \u001b[43mmetadata\u001b[49m\u001b[43m[\u001b[49m\u001b[33;43m'\u001b[39;49m\u001b[33;43mname\u001b[39;49m\u001b[33;43m'\u001b[39;49m\u001b[43m]\u001b[49m.str.contains(query, case=\u001b[38;5;28;01mFalse\u001b[39;00m, na=\u001b[38;5;28;01mFalse\u001b[39;00m) | \\\n\u001b[32m      4\u001b[39m            metadata[\u001b[33m'\u001b[39m\u001b[33mshort_description\u001b[39m\u001b[33m'\u001b[39m].str.contains(query, case=\u001b[38;5;28;01mFalse\u001b[39;00m, na=\u001b[38;5;28;01mFalse\u001b[39;00m)\n\u001b[32m      5\u001b[39m     \u001b[38;5;28;01mreturn\u001b[39;00m metadata[mask].head(top_n)\n",
      "\u001b[36mFile \u001b[39m\u001b[32md:\\Projects\\ActualGameSearch_V2\\.venv\\Lib\\site-packages\\pandas\\core\\frame.py:4107\u001b[39m, in \u001b[36mDataFrame.__getitem__\u001b[39m\u001b[34m(self, key)\u001b[39m\n\u001b[32m   4105\u001b[39m \u001b[38;5;28;01mif\u001b[39;00m \u001b[38;5;28mself\u001b[39m.columns.nlevels > \u001b[32m1\u001b[39m:\n\u001b[32m   4106\u001b[39m     \u001b[38;5;28;01mreturn\u001b[39;00m \u001b[38;5;28mself\u001b[39m._getitem_multilevel(key)\n\u001b[32m-> \u001b[39m\u001b[32m4107\u001b[39m indexer = \u001b[38;5;28;43mself\u001b[39;49m\u001b[43m.\u001b[49m\u001b[43mcolumns\u001b[49m\u001b[43m.\u001b[49m\u001b[43mget_loc\u001b[49m\u001b[43m(\u001b[49m\u001b[43mkey\u001b[49m\u001b[43m)\u001b[49m\n\u001b[32m   4108\u001b[39m \u001b[38;5;28;01mif\u001b[39;00m is_integer(indexer):\n\u001b[32m   4109\u001b[39m     indexer = [indexer]\n",
      "\u001b[36mFile \u001b[39m\u001b[32md:\\Projects\\ActualGameSearch_V2\\.venv\\Lib\\site-packages\\pandas\\core\\indexes\\range.py:417\u001b[39m, in \u001b[36mRangeIndex.get_loc\u001b[39m\u001b[34m(self, key)\u001b[39m\n\u001b[32m    415\u001b[39m         \u001b[38;5;28;01mraise\u001b[39;00m \u001b[38;5;167;01mKeyError\u001b[39;00m(key) \u001b[38;5;28;01mfrom\u001b[39;00m\u001b[38;5;250m \u001b[39m\u001b[34;01merr\u001b[39;00m\n\u001b[32m    416\u001b[39m \u001b[38;5;28;01mif\u001b[39;00m \u001b[38;5;28misinstance\u001b[39m(key, Hashable):\n\u001b[32m--> \u001b[39m\u001b[32m417\u001b[39m     \u001b[38;5;28;01mraise\u001b[39;00m \u001b[38;5;167;01mKeyError\u001b[39;00m(key)\n\u001b[32m    418\u001b[39m \u001b[38;5;28mself\u001b[39m._check_indexing_error(key)\n\u001b[32m    419\u001b[39m \u001b[38;5;28;01mraise\u001b[39;00m \u001b[38;5;167;01mKeyError\u001b[39;00m(key)\n",
      "\u001b[31mKeyError\u001b[39m: 'name'"
     ]
    }
   ],
   "source": [
    "# Simple keyword search in product metadata\n",
    "def search_products(metadata: pd.DataFrame, query: str, top_n: int = 10) -> pd.DataFrame:\n",
    "    mask = metadata['name'].str.contains(query, case=False, na=False) | \\\n",
    "           metadata['short_description'].str.contains(query, case=False, na=False)\n",
    "    return metadata[mask].head(top_n)\n",
    "\n",
    "# Simple keyword search in reviews\n",
    "def search_reviews(reviews: pd.DataFrame, query: str, top_n: int = 10) -> pd.DataFrame:\n",
    "    mask = reviews['processed_review'].str.contains(query, case=False, na=False)\n",
    "    return reviews[mask].head(top_n)\n",
    "\n",
    "# Example usage:\n",
    "print(\"\\nSample product search for 'farming':\")\n",
    "display(search_products(metadata_clean, 'farming'))\n",
    "\n",
    "print(\"\\nSample review search for 'cozy':\")\n",
    "display(search_reviews(reviews_clean, 'cozy'))\n"
   ]
  }
 ],
 "metadata": {
  "kernelspec": {
   "display_name": ".venv",
   "language": "python",
   "name": "python3"
  },
  "language_info": {
   "codemirror_mode": {
    "name": "ipython",
    "version": 3
   },
   "file_extension": ".py",
   "mimetype": "text/x-python",
   "name": "python",
   "nbconvert_exporter": "python",
   "pygments_lexer": "ipython3",
   "version": "3.11.3"
  }
 },
 "nbformat": 4,
 "nbformat_minor": 5
}
