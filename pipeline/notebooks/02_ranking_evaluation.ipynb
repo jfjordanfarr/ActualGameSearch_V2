{
 "cells": [
  {
   "cell_type": "markdown",
   "id": "65e883be",
   "metadata": {},
   "source": [
    "# Ranking Evaluation\n",
    "\n",
    "Tools for evaluating search quality and tuning RRF/4R weights."
   ]
  }
 ],
 "metadata": {
  "language_info": {
   "name": "python"
  }
 },
 "nbformat": 4,
 "nbformat_minor": 5
}
