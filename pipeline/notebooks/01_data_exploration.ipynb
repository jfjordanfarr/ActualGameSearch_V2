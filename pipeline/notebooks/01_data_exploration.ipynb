{
 "cells": [
  {
   "cell_type": "markdown",
   "id": "78f88bda",
   "metadata": {},
   "source": [
    "# Data Exploration\n",
    "\n",
    "Initial analysis of raw Steam data."
   ]
  }
 ],
 "metadata": {
  "language_info": {
   "name": "python"
  }
 },
 "nbformat": 4,
 "nbformat_minor": 5
}
